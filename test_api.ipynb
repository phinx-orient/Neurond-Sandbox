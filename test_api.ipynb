{
 "cells": [
  {
   "cell_type": "markdown",
   "metadata": {},
   "source": [
    "## Define function"
   ]
  },
  {
   "cell_type": "code",
   "execution_count": 1,
   "metadata": {},
   "outputs": [],
   "source": [
    "import requests\n",
    "\n",
    "# Base URL of the FastAPI application\n",
    "BASE_URL = \"http://localhost:8000\"\n",
    "\n",
    "# Example: Create a session\n",
    "def create_session(lang, image, dockerfile, keep_template):\n",
    "    url = f\"{BASE_URL}/create_session/\"\n",
    "    payload = {\n",
    "        \"lang\": lang,\n",
    "        \"image\": image,\n",
    "        \"dockerfile\": dockerfile,\n",
    "        \"keep_template\": keep_template\n",
    "    }\n",
    "    response = requests.post(url, json=payload)\n",
    "    return response.json()\n",
    "\n",
    "# Example: Get active sessions\n",
    "def get_sessions():\n",
    "    url = f\"{BASE_URL}/sessions/\"\n",
    "    response = requests.get(url)\n",
    "    return response.json()\n",
    "# Example: Get session metadata by session ID\n",
    "def get_session_metadata(session_id):\n",
    "    url = f\"{BASE_URL}/session_metadata/{session_id}/\"\n",
    "    response = requests.get(url)\n",
    "    return response.json()\n",
    "\n",
    "# Example: Run code in a session\n",
    "def run_code(session_id, code, libraries=None):\n",
    "    url = f\"{BASE_URL}/run_code/{session_id}/\"\n",
    "    payload = {\n",
    "        \"code\": code,\n",
    "        \"libraries\": libraries or []\n",
    "    }\n",
    "    response = requests.post(url, json=payload)\n",
    "    return response.json()\n",
    "\n",
    "# Example: Close a session\n",
    "def close_session(session_id):\n",
    "    url = f\"{BASE_URL}/close_session/{session_id}/\"\n",
    "    response = requests.post(url)\n",
    "    return response.json()\n",
    "\n",
    "# Test CopyFromRuntimeRequest endpoint\n",
    "def copy_from_runtime(session_id, src_runtime_file, dest_local_path):\n",
    "    payload = {\n",
    "        \"src_runtime_file\": src_runtime_file,\n",
    "        \"dest_local_path\": dest_local_path\n",
    "    }\n",
    "    response = requests.post(f\"{BASE_URL}/copy_from_runtime/{session_id}\", json=payload)\n",
    "    return response.json()\n",
    "\n",
    "# Test CopyToRuntimeRequest endpoint\n",
    "def copy_to_runtime(session_id, file_path, dest_runtime_path=\"./app\"):\n",
    "    \"\"\"\n",
    "    Test the copy_to_runtime endpoint.\n",
    "\n",
    "    :param api_url: The base URL of the API (e.g., \"http://localhost:8000\")\n",
    "    :param session_id: The ID of the session to copy the file to\n",
    "    :param file_path: The local path of the file to be uploaded\n",
    "    :param dest_runtime_path: The destination path in the runtime\n",
    "    :return: The response from the API\n",
    "    \"\"\"\n",
    "    with open(file_path, 'rb') as file:\n",
    "        files = {'src': file}  # The file to upload\n",
    "        data = {'dest_runtime_path': dest_runtime_path}  # The destination path in the runtime\n",
    "\n",
    "        response = requests.post(f\"{BASE_URL}/copy_to_runtime/{session_id}/\", files=files, data=data)\n",
    "\n",
    "    return response.json()\n",
    "\n",
    "def add_mount(session_id: str, local_path: str, runtime_path: str, mount_type: str = \"bind\"):\n",
    "    # Define the URL of your FastAPI application\n",
    "    url = f\"http://localhost:8000/add_mount/{session_id}/\"\n",
    "\n",
    "    # Define the payload for the request\n",
    "    payload = {\n",
    "        \"local_path\": local_path,\n",
    "        \"target\": runtime_path,\n",
    "        \"type\": mount_type\n",
    "    }\n",
    "\n",
    "    # Send the POST request\n",
    "    response = requests.post(url, json=payload)\n",
    "    return response\n"
   ]
  },
  {
   "cell_type": "markdown",
   "metadata": {},
   "source": [
    "## create sessions (sandbox)"
   ]
  },
  {
   "cell_type": "code",
   "execution_count": 11,
   "metadata": {},
   "outputs": [
    {
     "name": "stdout",
     "output_type": "stream",
     "text": [
      "{'message': 'Session created successfully.', 'session_id': '5978021c-f71c-47ca-9947-c27ec60b2391'}\n"
     ]
    }
   ],
   "source": [
    "response = create_session(lang=\"python\", image=\"\",  dockerfile = \"./docker_sandbox/Dockerfile\",  keep_template= True)\n",
    "print(response)\n",
    "session_id=response['session_id']"
   ]
  },
  {
   "cell_type": "markdown",
   "metadata": {},
   "source": [
    "## get all sessions"
   ]
  },
  {
   "cell_type": "code",
   "execution_count": 12,
   "metadata": {},
   "outputs": [
    {
     "data": {
      "text/plain": [
       "{'active_sessions': ['2f1aae50-81d9-4b61-b2cc-8942fda837ec',\n",
       "  '5978021c-f71c-47ca-9947-c27ec60b2391']}"
      ]
     },
     "execution_count": 12,
     "metadata": {},
     "output_type": "execute_result"
    }
   ],
   "source": [
    "get_sessions()"
   ]
  },
  {
   "cell_type": "markdown",
   "metadata": {},
   "source": [
    "## get session by id"
   ]
  },
  {
   "cell_type": "code",
   "execution_count": 64,
   "metadata": {},
   "outputs": [
    {
     "name": "stdout",
     "output_type": "stream",
     "text": [
      "{'session_id': '63a7c931-5f7c-4be9-b231-f474dd13ca5a', 'metadata': {'lang': 'python', 'dockerfile': './docker_sandbox/Dockerfile', 'keep_template': True}}\n"
     ]
    }
   ],
   "source": [
    "response = get_session_metadata(session_id=session_id)\n",
    "print(response)\n"
   ]
  },
  {
   "cell_type": "markdown",
   "metadata": {},
   "source": [
    "## run code"
   ]
  },
  {
   "cell_type": "code",
   "execution_count": 13,
   "metadata": {},
   "outputs": [
    {
     "name": "stdout",
     "output_type": "stream",
     "text": [
      "{'output': '3.141592653589793\\r\\n'}\n"
     ]
    }
   ],
   "source": [
    "code = \"\"\"\n",
    "import numpy as np\n",
    "print(np.pi)\n",
    "\"\"\"\n",
    "response = run_code(session_id=session_id, code=code, libraries=\"\")\n",
    "print(response)"
   ]
  },
  {
   "cell_type": "markdown",
   "metadata": {},
   "source": [
    "## close sessions"
   ]
  },
  {
   "cell_type": "code",
   "execution_count": 57,
   "metadata": {},
   "outputs": [
    {
     "data": {
      "text/plain": [
       "{'message': 'Session closed successfully.'}"
      ]
     },
     "execution_count": 57,
     "metadata": {},
     "output_type": "execute_result"
    }
   ],
   "source": [
    "response = close_session(session_id)\n",
    "response\n"
   ]
  },
  {
   "cell_type": "markdown",
   "metadata": {},
   "source": [
    "## copy from run time"
   ]
  },
  {
   "cell_type": "code",
   "execution_count": 14,
   "metadata": {},
   "outputs": [
    {
     "data": {
      "text/plain": [
       "{'output': ''}"
      ]
     },
     "execution_count": 14,
     "metadata": {},
     "output_type": "execute_result"
    }
   ],
   "source": [
    "code = \"\"\"\n",
    "import numpy as np\n",
    "import matplotlib.pyplot as plt\n",
    "\n",
    "# Generate x values\n",
    "x = np.linspace(0, 2 * np.pi, 100)\n",
    "# Calculate sine values\n",
    "y = np.sin(x)\n",
    "\n",
    "# Create the plot\n",
    "plt.plot(x, y)\n",
    "plt.title('Sine Wave')\n",
    "plt.xlabel('x values (radians)')\n",
    "plt.ylabel('sin(x)')\n",
    "plt.grid()\n",
    "\n",
    "# Save the figure\n",
    "plt.savefig('./wave.png')\n",
    "plt.show()\n",
    "\"\"\"\n",
    "response = run_code(session_id=session_id, code=code, libraries=\"\")\n",
    "\n",
    "# response = copy_from_runtime(session_id=session_id, src_runtime_file=\"wave.png\", dest_local_path=\"mnt\")\n",
    "response"
   ]
  },
  {
   "cell_type": "code",
   "execution_count": 15,
   "metadata": {},
   "outputs": [
    {
     "data": {
      "text/plain": [
       "'5978021c-f71c-47ca-9947-c27ec60b2391'"
      ]
     },
     "execution_count": 15,
     "metadata": {},
     "output_type": "execute_result"
    }
   ],
   "source": [
    "session_id"
   ]
  },
  {
   "cell_type": "markdown",
   "metadata": {},
   "source": [
    "## copy to run time"
   ]
  },
  {
   "cell_type": "code",
   "execution_count": 71,
   "metadata": {},
   "outputs": [],
   "source": [
    "response = copy_to_runtime(session_id=session_id, file_path=\"requirements.txt\")"
   ]
  },
  {
   "cell_type": "markdown",
   "metadata": {},
   "source": [
    "## mount\n"
   ]
  },
  {
   "cell_type": "code",
   "execution_count": 9,
   "metadata": {},
   "outputs": [
    {
     "data": {
      "text/plain": [
       "<Response [422]>"
      ]
     },
     "execution_count": 9,
     "metadata": {},
     "output_type": "execute_result"
    }
   ],
   "source": [
    "response = add_mount(session_id=session_id, local_path=\"./mnt\", runtime_path=\"./tmp\")\n",
    "response"
   ]
  }
 ],
 "metadata": {
  "kernelspec": {
   "display_name": "dev",
   "language": "python",
   "name": "python3"
  },
  "language_info": {
   "codemirror_mode": {
    "name": "ipython",
    "version": 3
   },
   "file_extension": ".py",
   "mimetype": "text/x-python",
   "name": "python",
   "nbconvert_exporter": "python",
   "pygments_lexer": "ipython3",
   "version": "3.10.15"
  }
 },
 "nbformat": 4,
 "nbformat_minor": 2
}
