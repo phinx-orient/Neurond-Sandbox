{
 "cells": [
  {
   "cell_type": "code",
   "execution_count": 5,
   "metadata": {},
   "outputs": [
    {
     "name": "stdout",
     "output_type": "stream",
     "text": [
      "Building docker image from ./docker_sandbox/Dockerfile\n"
     ]
    },
    {
     "name": "stderr",
     "output_type": "stream",
     "text": [
      "INFO:llm_sandbox.docker:Mount added: ./ -> ./mnt of type bind\n"
     ]
    },
    {
     "name": "stdout",
     "output_type": "stream",
     "text": [
      "Successfully added mount from ./ to ./mnt.\n"
     ]
    }
   ],
   "source": [
    "# Import necessary modules\n",
    "import os\n",
    "import docker\n",
    "from llm_sandbox.docker import SandboxDockerSession\n",
    "\n",
    "# Create a temporary directory to use as a mount source\n",
    "source_dir = \"./\"  # Change this to a valid directory path\n",
    "# os.makedirs(source_dir, exist_ok=True)\n",
    "\n",
    "# Create an instance of the SandboxDockerSession\n",
    "session = SandboxDockerSession(\n",
    "    client=docker.from_env(),  # Use the local Docker client\n",
    "    image=\"\",  # Specify a valid Docker image\n",
    "    dockerfile=\"./docker_sandbox/Dockerfile\",\n",
    "    lang=\"python\",  # Specify the language\n",
    "    verbose=True  # Enable verbose output for debugging\n",
    ")\n",
    "\n",
    "# Open the session\n",
    "session.open()\n",
    "\n",
    "# Add a mount\n",
    "target_dir = \"./mnt\"  # Specify the target directory in the container\n",
    "try:\n",
    "    session.add_mount(source=source_dir, target=target_dir, type='bind')\n",
    "    print(f\"Successfully added mount from {source_dir} to {target_dir}.\")\n",
    "except ValueError as e:\n",
    "    print(f\"Error adding mount: {e}\")\n",
    "\n",
    "# # Close the session\n",
    "# session.close()"
   ]
  }
 ],
 "metadata": {
  "kernelspec": {
   "display_name": "dev",
   "language": "python",
   "name": "python3"
  },
  "language_info": {
   "codemirror_mode": {
    "name": "ipython",
    "version": 3
   },
   "file_extension": ".py",
   "mimetype": "text/x-python",
   "name": "python",
   "nbconvert_exporter": "python",
   "pygments_lexer": "ipython3",
   "version": "3.10.15"
  }
 },
 "nbformat": 4,
 "nbformat_minor": 2
}
